{
  "nbformat": 4,
  "nbformat_minor": 0,
  "metadata": {
    "colab": {
      "provenance": []
    },
    "kernelspec": {
      "name": "python3",
      "display_name": "Python 3"
    },
    "language_info": {
      "name": "python"
    }
  },
  "cells": [
    {
      "cell_type": "markdown",
      "source": [
        "### import library\n"
      ],
      "metadata": {
        "id": "AHN85mf-2Rnv"
      }
    },
    {
      "cell_type": "code",
      "source": [
        "import pandas as pd\n",
        "import numpy as np\n",
        "from sklearn.model_selection import train_test_split\n",
        "from sklearn.preprocessing import StandardScaler, OneHotEncoder\n",
        "from sklearn.compose import ColumnTransformer\n",
        "from sklearn.pipeline import Pipeline\n",
        "from sklearn.ensemble import RandomForestRegressor\n",
        "from sklearn.metrics import mean_absolute_error, mean_squared_error"
      ],
      "metadata": {
        "id": "3Bf0DpQL2U0g"
      },
      "execution_count": 33,
      "outputs": []
    },
    {
      "cell_type": "markdown",
      "source": [
        "### 2. Data Preparation & Cleaning"
      ],
      "metadata": {
        "id": "uyp-gQ-d2dXe"
      }
    },
    {
      "cell_type": "code",
      "source": [
        "# 2. Load and Prepare the Data\n",
        "# Load the dataset you provided\n",
        "df = pd.read_csv('dataset (1).csv')\n",
        "# Drop the 'Gender' column based on EDA findings\n",
        "df = df.drop('Gender', axis=1)\n",
        "\n",
        "# Define features (X) and target (y)\n",
        "X = df.drop('Price', axis=1)\n",
        "y = df['Price']"
      ],
      "metadata": {
        "id": "gDulrQkn2d_5"
      },
      "execution_count": 34,
      "outputs": []
    },
    {
      "cell_type": "markdown",
      "source": [
        "### 3. Preprocessing Setup"
      ],
      "metadata": {
        "id": "lSg0QaPk3LjH"
      }
    },
    {
      "cell_type": "code",
      "source": [
        "# Manually map the 'Size' feature as it's ordinal\n",
        "size_mapping = {'small': 0, 'medium': 1, 'large': 2}\n",
        "X['Size'] = X['Size'].map(size_mapping)\n",
        "\n",
        "# Identify column types for the preprocessor\n",
        "# 'Size' is now numeric and will be scaled with other numerical features\n",
        "numerical_features = ['Ingredients_Cost', 'Time_Taken', 'Amount', 'Size']\n",
        "categorical_features = ['Sold_On', 'Design_Complexity']\n",
        "\n",
        "# Create a preprocessor to apply different transformations to different columns\n",
        "# - StandardScaler for numerical features\n",
        "# - OneHotEncoder for categorical features\n",
        "preprocessor = ColumnTransformer(\n",
        "    transformers=[\n",
        "        ('num', StandardScaler(), numerical_features),\n",
        "        ('cat', OneHotEncoder(handle_unknown='ignore'), categorical_features)\n",
        "    ])\n"
      ],
      "metadata": {
        "id": "EuT8a4Ms2vy7"
      },
      "execution_count": 35,
      "outputs": []
    },
    {
      "cell_type": "markdown",
      "source": [
        "###  4. Model Definition\n",
        "\n",
        "\n",
        "\n"
      ],
      "metadata": {
        "id": "f51wkQVu3gS0"
      }
    },
    {
      "cell_type": "code",
      "source": [
        "# We'll use a RandomForestRegressor, a powerful and reliable model for this task\n",
        "model = RandomForestRegressor(n_estimators=100, random_state=42, n_jobs=-1)\n",
        "\n",
        "# 5. Create and Train the Pipeline\n",
        "# A pipeline chains the preprocessor and the model, simplifying the workflow\n",
        "pipeline = Pipeline(steps=[('preprocessor', preprocessor),\n",
        "                           ('regressor', model)])\n",
        "\n",
        "# Split data into 80% for training and 20% for testing\n",
        "X_train, X_test, y_train, y_test = train_test_split(X, y, test_size=0.2, random_state=42)\n",
        "\n",
        "# Train the entire pipeline on the training data\n",
        "print(\"Training the RandomForestRegressor model...\")\n",
        "pipeline.fit(X_train, y_train)\n",
        "print(\"Model training complete.\")\n",
        "print(\"-\" * 40)"
      ],
      "metadata": {
        "colab": {
          "base_uri": "https://localhost:8080/"
        },
        "id": "rVxeZSWa3gXB",
        "outputId": "2804dc73-4b2d-4044-b251-3ffe480e2574"
      },
      "execution_count": 36,
      "outputs": [
        {
          "output_type": "stream",
          "name": "stdout",
          "text": [
            "Training the RandomForestRegressor model...\n",
            "Model training complete.\n",
            "----------------------------------------\n"
          ]
        }
      ]
    },
    {
      "cell_type": "markdown",
      "source": [
        "### 5. Evaluate the Model"
      ],
      "metadata": {
        "id": "1YcZ4L3v36HY"
      }
    },
    {
      "cell_type": "code",
      "source": [
        "# Use the trained pipeline to make predictions on the unseen test data\n",
        "y_pred = pipeline.predict(X_test)\n",
        "\n",
        "# Calculate and print the performance metrics\n",
        "mae = mean_absolute_error(y_test, y_pred)\n",
        "mse = mean_squared_error(y_test, y_pred)\n",
        "rmse = np.sqrt(mse)\n",
        "\n",
        "print(\"Model Evaluation Results on Test Data:\")\n",
        "print(f\"Mean Absolute Error (MAE): ${mae:.2f}\")\n",
        "print(f\"Root Mean Squared Error (RMSE): ${rmse:.2f}\")\n",
        "print(\"-\" * 40)\n",
        "print(f\"On average, the model's price predictions are off by about ${mae:.2f}.\")"
      ],
      "metadata": {
        "colab": {
          "base_uri": "https://localhost:8080/"
        },
        "id": "XuGPbI1R39bx",
        "outputId": "21eeb9d8-841f-4b48-99ab-9e2f03d1e2b9"
      },
      "execution_count": 37,
      "outputs": [
        {
          "output_type": "stream",
          "name": "stdout",
          "text": [
            "Model Evaluation Results on Test Data:\n",
            "Mean Absolute Error (MAE): $9.76\n",
            "Root Mean Squared Error (RMSE): $12.61\n",
            "----------------------------------------\n",
            "On average, the model's price predictions are off by about $9.76.\n"
          ]
        }
      ]
    },
    {
      "cell_type": "markdown",
      "source": [
        "### 6. Prediction on a New Cake"
      ],
      "metadata": {
        "id": "gziadT1W4CrM"
      }
    },
    {
      "cell_type": "code",
      "source": [
        "# Let's predict the price for a new, hypothetical cake\n",
        "new_cake_data = pd.DataFrame({\n",
        "    'Sold_On': ['Friday'],\n",
        "    'Size': ['medium'],\n",
        "    'Ingredients_Cost': [75],\n",
        "    'Design_Complexity': ['complex'],\n",
        "    'Time_Taken': [4],\n",
        "    'Amount': [2]\n",
        "})\n",
        "\n",
        "# Manually map the 'Size' feature in the new data\n",
        "size_mapping = {'small': 0, 'medium': 1, 'large': 2}\n",
        "new_cake_data['Size'] = new_cake_data['Size'].map(size_mapping)\n",
        "\n",
        "\n",
        "# Use the trained pipeline to predict the price\n",
        "predicted_price = pipeline.predict(new_cake_data)\n",
        "\n",
        "print(\"\\n--- Prediction for a New Cake ---\")\n",
        "print(\"Cake Features:\")\n",
        "print(new_cake_data)\n",
        "print(f\"\\nPredicted Price: ${predicted_price[0]:.2f}\")"
      ],
      "metadata": {
        "colab": {
          "base_uri": "https://localhost:8080/"
        },
        "id": "rmk1Xmrp4FmV",
        "outputId": "40735db3-b691-49b1-e4fb-df935fedab1f"
      },
      "execution_count": 38,
      "outputs": [
        {
          "output_type": "stream",
          "name": "stdout",
          "text": [
            "\n",
            "--- Prediction for a New Cake ---\n",
            "Cake Features:\n",
            "  Sold_On  Size  Ingredients_Cost Design_Complexity  Time_Taken  Amount\n",
            "0  Friday     1                75           complex           4       2\n",
            "\n",
            "Predicted Price: $111.67\n"
          ]
        }
      ]
    }
  ]
}